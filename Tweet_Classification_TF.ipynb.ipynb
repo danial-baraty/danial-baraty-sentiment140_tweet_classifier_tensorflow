{
 "cells": [
  {
   "cell_type": "markdown",
   "id": "524395f2-0eee-42ed-badc-3f968852bc61",
   "metadata": {},
   "source": [
    "## Dataset Overview\n",
    "\n",
    "The dataset used in this project is **`training.1600000.processed.noemoticon.csv`**, also known as the **Sentiment140 dataset**.  \n",
    "It contains **1.6 million tweets** labeled for sentiment analysis. Each tweet is annotated as **positive (4)** or **negative (0)** based on its sentiment.\n",
    "\n",
    "Since the full dataset is too large for local processing, we created a **balanced sample of 50,000 tweets** (25,000 positive and 25,000 negative) and saved it as  \n",
    "`sentiment140_50k.csv`.\n",
    "\n",
    "### Columns\n",
    "- **target** — Sentiment label (`0` = negative, `1` = positive after conversion)  \n",
    "- **id** — Unique identifier for the tweet  \n",
    "- **date** — Date and time of the tweet  \n",
    "- **flag** — Query flag (not relevant)  \n",
    "- **user** — Username of the tweet author  \n",
    "- **text** — The actual tweet content"
   ]
  },
  {
   "cell_type": "markdown",
   "id": "4d13f1bd-dbcb-4642-99ca-2d3f1410d728",
   "metadata": {},
   "source": [
    "# Loading datased"
   ]
  },
  {
   "cell_type": "code",
   "execution_count": 1,
   "id": "afbb2f15-07a9-48b8-8402-33851d8394ff",
   "metadata": {},
   "outputs": [
    {
     "data": {
      "text/html": [
       "<div>\n",
       "<style scoped>\n",
       "    .dataframe tbody tr th:only-of-type {\n",
       "        vertical-align: middle;\n",
       "    }\n",
       "\n",
       "    .dataframe tbody tr th {\n",
       "        vertical-align: top;\n",
       "    }\n",
       "\n",
       "    .dataframe thead th {\n",
       "        text-align: right;\n",
       "    }\n",
       "</style>\n",
       "<table border=\"1\" class=\"dataframe\">\n",
       "  <thead>\n",
       "    <tr style=\"text-align: right;\">\n",
       "      <th></th>\n",
       "      <th>target</th>\n",
       "      <th>id</th>\n",
       "      <th>date</th>\n",
       "      <th>flag</th>\n",
       "      <th>user</th>\n",
       "      <th>text</th>\n",
       "    </tr>\n",
       "  </thead>\n",
       "  <tbody>\n",
       "    <tr>\n",
       "      <th>0</th>\n",
       "      <td>1</td>\n",
       "      <td>2064229792</td>\n",
       "      <td>Sun Jun 07 05:38:57 PDT 2009</td>\n",
       "      <td>NO_QUERY</td>\n",
       "      <td>PinoyTarsier</td>\n",
       "      <td>@indykitty *hug indykitty* sleep tight indy...</td>\n",
       "    </tr>\n",
       "    <tr>\n",
       "      <th>1</th>\n",
       "      <td>0</td>\n",
       "      <td>2063435330</td>\n",
       "      <td>Sun Jun 07 02:38:52 PDT 2009</td>\n",
       "      <td>NO_QUERY</td>\n",
       "      <td>Hannah_oxberry</td>\n",
       "      <td>@Shough yeah I feel really bad for them  tryin...</td>\n",
       "    </tr>\n",
       "    <tr>\n",
       "      <th>2</th>\n",
       "      <td>0</td>\n",
       "      <td>2251087443</td>\n",
       "      <td>Sat Jun 20 02:23:50 PDT 2009</td>\n",
       "      <td>NO_QUERY</td>\n",
       "      <td>meabhaline</td>\n",
       "      <td>@embeep sorry about your sadness  I'll be home...</td>\n",
       "    </tr>\n",
       "    <tr>\n",
       "      <th>3</th>\n",
       "      <td>0</td>\n",
       "      <td>2066987792</td>\n",
       "      <td>Sun Jun 07 11:32:31 PDT 2009</td>\n",
       "      <td>NO_QUERY</td>\n",
       "      <td>PDKG</td>\n",
       "      <td>Couldn't spend time with the family cuz of wor...</td>\n",
       "    </tr>\n",
       "    <tr>\n",
       "      <th>4</th>\n",
       "      <td>1</td>\n",
       "      <td>1557513350</td>\n",
       "      <td>Sun Apr 19 04:34:04 PDT 2009</td>\n",
       "      <td>NO_QUERY</td>\n",
       "      <td>eulaivi</td>\n",
       "      <td>is new on twitter</td>\n",
       "    </tr>\n",
       "  </tbody>\n",
       "</table>\n",
       "</div>"
      ],
      "text/plain": [
       "   target          id                          date      flag            user  \\\n",
       "0       1  2064229792  Sun Jun 07 05:38:57 PDT 2009  NO_QUERY    PinoyTarsier   \n",
       "1       0  2063435330  Sun Jun 07 02:38:52 PDT 2009  NO_QUERY  Hannah_oxberry   \n",
       "2       0  2251087443  Sat Jun 20 02:23:50 PDT 2009  NO_QUERY      meabhaline   \n",
       "3       0  2066987792  Sun Jun 07 11:32:31 PDT 2009  NO_QUERY            PDKG   \n",
       "4       1  1557513350  Sun Apr 19 04:34:04 PDT 2009  NO_QUERY         eulaivi   \n",
       "\n",
       "                                                text  \n",
       "0    @indykitty *hug indykitty* sleep tight indy...   \n",
       "1  @Shough yeah I feel really bad for them  tryin...  \n",
       "2  @embeep sorry about your sadness  I'll be home...  \n",
       "3  Couldn't spend time with the family cuz of wor...  \n",
       "4                                 is new on twitter   "
      ]
     },
     "execution_count": 1,
     "metadata": {},
     "output_type": "execute_result"
    }
   ],
   "source": [
    "import pandas as pd\n",
    "\n",
    "df = pd.read_csv(\"sentiment140_50k.csv\")\n",
    "df.head()"
   ]
  },
  {
   "cell_type": "markdown",
   "id": "8ed1df7c-9c4d-4125-afcb-51255e70ee33",
   "metadata": {},
   "source": [
    "# Preprocessing"
   ]
  },
  {
   "cell_type": "markdown",
   "id": "2cdb869a-43e1-47e1-9ebc-c43a02686022",
   "metadata": {},
   "source": [
    "**Dropping Irrelevant Columns**\n",
    "\n",
    "Columns `id`, `date`, `flag`, and `user` are not related to sentiment, so we drop them and keep only `text` and `target`."
   ]
  },
  {
   "cell_type": "code",
   "execution_count": 2,
   "id": "a7b84e19-88d7-41bb-b5a0-826bf5ad40c8",
   "metadata": {},
   "outputs": [
    {
     "data": {
      "text/html": [
       "<div>\n",
       "<style scoped>\n",
       "    .dataframe tbody tr th:only-of-type {\n",
       "        vertical-align: middle;\n",
       "    }\n",
       "\n",
       "    .dataframe tbody tr th {\n",
       "        vertical-align: top;\n",
       "    }\n",
       "\n",
       "    .dataframe thead th {\n",
       "        text-align: right;\n",
       "    }\n",
       "</style>\n",
       "<table border=\"1\" class=\"dataframe\">\n",
       "  <thead>\n",
       "    <tr style=\"text-align: right;\">\n",
       "      <th></th>\n",
       "      <th>target</th>\n",
       "      <th>text</th>\n",
       "    </tr>\n",
       "  </thead>\n",
       "  <tbody>\n",
       "    <tr>\n",
       "      <th>0</th>\n",
       "      <td>1</td>\n",
       "      <td>@indykitty *hug indykitty* sleep tight indy...</td>\n",
       "    </tr>\n",
       "    <tr>\n",
       "      <th>1</th>\n",
       "      <td>0</td>\n",
       "      <td>@Shough yeah I feel really bad for them  tryin...</td>\n",
       "    </tr>\n",
       "    <tr>\n",
       "      <th>2</th>\n",
       "      <td>0</td>\n",
       "      <td>@embeep sorry about your sadness  I'll be home...</td>\n",
       "    </tr>\n",
       "    <tr>\n",
       "      <th>3</th>\n",
       "      <td>0</td>\n",
       "      <td>Couldn't spend time with the family cuz of wor...</td>\n",
       "    </tr>\n",
       "    <tr>\n",
       "      <th>4</th>\n",
       "      <td>1</td>\n",
       "      <td>is new on twitter</td>\n",
       "    </tr>\n",
       "  </tbody>\n",
       "</table>\n",
       "</div>"
      ],
      "text/plain": [
       "   target                                               text\n",
       "0       1    @indykitty *hug indykitty* sleep tight indy... \n",
       "1       0  @Shough yeah I feel really bad for them  tryin...\n",
       "2       0  @embeep sorry about your sadness  I'll be home...\n",
       "3       0  Couldn't spend time with the family cuz of wor...\n",
       "4       1                                 is new on twitter "
      ]
     },
     "execution_count": 2,
     "metadata": {},
     "output_type": "execute_result"
    }
   ],
   "source": [
    "df = df.drop(columns=[\"id\", \"date\", \"flag\", \"user\"])\n",
    "df.head()"
   ]
  },
  {
   "cell_type": "code",
   "execution_count": 3,
   "id": "26e502f2-870b-4bc7-a5f8-493257c738db",
   "metadata": {},
   "outputs": [
    {
     "data": {
      "text/plain": [
       "target\n",
       "1    25000\n",
       "0    25000\n",
       "Name: count, dtype: int64"
      ]
     },
     "execution_count": 3,
     "metadata": {},
     "output_type": "execute_result"
    }
   ],
   "source": [
    "# Count of each sentiment\n",
    "df[\"target\"].value_counts()"
   ]
  },
  {
   "cell_type": "code",
   "execution_count": 4,
   "id": "7d4e8a1e-2089-4818-a794-e96d4d2eaf9e",
   "metadata": {},
   "outputs": [
    {
     "data": {
      "text/plain": [
       "target\n",
       "1    25000\n",
       "0    25000\n",
       "Name: count, dtype: int64"
      ]
     },
     "execution_count": 4,
     "metadata": {},
     "output_type": "execute_result"
    }
   ],
   "source": [
    "df[\"target\"] = df[\"target\"].replace(4, 1)\n",
    "df[\"target\"].value_counts()"
   ]
  },
  {
   "cell_type": "code",
   "execution_count": 5,
   "id": "f5e191b1-1baf-4f25-ad51-7f483a464cbb",
   "metadata": {},
   "outputs": [
    {
     "data": {
      "text/plain": [
       "dtype('int64')"
      ]
     },
     "execution_count": 5,
     "metadata": {},
     "output_type": "execute_result"
    }
   ],
   "source": [
    "df[\"target\"].dtype"
   ]
  },
  {
   "cell_type": "code",
   "execution_count": 6,
   "id": "1d26cfa6-6d76-4d91-b1f3-a03f732e7c5c",
   "metadata": {},
   "outputs": [
    {
     "data": {
      "text/plain": [
       "0      @indykitty *hug indykitty* sleep tight indy... \n",
       "1    @Shough yeah I feel really bad for them  tryin...\n",
       "2    @embeep sorry about your sadness  I'll be home...\n",
       "3    Couldn't spend time with the family cuz of wor...\n",
       "4                                   is new on twitter \n",
       "5    just want you all to kno how amazing Jesus is....\n",
       "6    @FollowKayleigh AAwww.. Xd.. you wasn't in his...\n",
       "7                    welp, bedtime for me guys. night \n",
       "8    @iceicebabyice yo I have been not following yo...\n",
       "9                                    Three more days. \n",
       "Name: text, dtype: object"
      ]
     },
     "execution_count": 6,
     "metadata": {},
     "output_type": "execute_result"
    }
   ],
   "source": [
    "df[\"text\"].head(10)"
   ]
  },
  {
   "cell_type": "markdown",
   "id": "f30e2c81-fd34-4153-8ed7-97669aee362c",
   "metadata": {},
   "source": [
    "## Text Preprocessing\n",
    "\n",
    "Common preprocessing steps for tweets:\n",
    "\n",
    "- Convert text to lowercase  \n",
    "- Remove URLs (`http://...`)  \n",
    "- Remove mentions (`@username`)  \n",
    "- Remove punctuation and special characters  \n",
    "- Remove extra whitespace  \n",
    "\n",
    "These steps help clean the text and make it ready for modeling."
   ]
  },
  {
   "cell_type": "code",
   "execution_count": 7,
   "id": "fbf2a1c0-e508-4226-8d3d-e8cbe510611d",
   "metadata": {},
   "outputs": [],
   "source": [
    "# This function preprocesses a tweet by:\n",
    "# 1. Converting text to lowercase\n",
    "# 2. Removing URLs\n",
    "# 3. Removing mentions (@username)\n",
    "# 4. Removing punctuation and special characters\n",
    "# 5. Removing extra whitespace\n",
    "import re\n",
    "\n",
    "def preprocess_text(text):\n",
    "    text = text.lower()  # lowercase\n",
    "    text = re.sub(r\"http\\S+\", \"\", text)  # remove URLs\n",
    "    text = re.sub(r\"@\\w+\", \"\", text)  # remove mentions\n",
    "    text = re.sub(r\"[^\\w\\s]\", \"\", text)  # remove punctuation\n",
    "    text = \" \".join(text.split())  # remove extra spaces\n",
    "    return text"
   ]
  },
  {
   "cell_type": "code",
   "execution_count": 8,
   "id": "392fff66-0627-42f0-8b75-6441de138c14",
   "metadata": {},
   "outputs": [
    {
     "data": {
      "text/html": [
       "<div>\n",
       "<style scoped>\n",
       "    .dataframe tbody tr th:only-of-type {\n",
       "        vertical-align: middle;\n",
       "    }\n",
       "\n",
       "    .dataframe tbody tr th {\n",
       "        vertical-align: top;\n",
       "    }\n",
       "\n",
       "    .dataframe thead th {\n",
       "        text-align: right;\n",
       "    }\n",
       "</style>\n",
       "<table border=\"1\" class=\"dataframe\">\n",
       "  <thead>\n",
       "    <tr style=\"text-align: right;\">\n",
       "      <th></th>\n",
       "      <th>target</th>\n",
       "      <th>text</th>\n",
       "    </tr>\n",
       "  </thead>\n",
       "  <tbody>\n",
       "    <tr>\n",
       "      <th>0</th>\n",
       "      <td>1</td>\n",
       "      <td>hug indykitty sleep tight indy</td>\n",
       "    </tr>\n",
       "    <tr>\n",
       "      <th>1</th>\n",
       "      <td>0</td>\n",
       "      <td>yeah i feel really bad for them trying my best...</td>\n",
       "    </tr>\n",
       "    <tr>\n",
       "      <th>2</th>\n",
       "      <td>0</td>\n",
       "      <td>sorry about your sadness ill be home next week...</td>\n",
       "    </tr>\n",
       "    <tr>\n",
       "      <th>3</th>\n",
       "      <td>0</td>\n",
       "      <td>couldnt spend time with the family cuz of work...</td>\n",
       "    </tr>\n",
       "    <tr>\n",
       "      <th>4</th>\n",
       "      <td>1</td>\n",
       "      <td>is new on twitter</td>\n",
       "    </tr>\n",
       "  </tbody>\n",
       "</table>\n",
       "</div>"
      ],
      "text/plain": [
       "   target                                               text\n",
       "0       1                     hug indykitty sleep tight indy\n",
       "1       0  yeah i feel really bad for them trying my best...\n",
       "2       0  sorry about your sadness ill be home next week...\n",
       "3       0  couldnt spend time with the family cuz of work...\n",
       "4       1                                  is new on twitter"
      ]
     },
     "execution_count": 8,
     "metadata": {},
     "output_type": "execute_result"
    }
   ],
   "source": [
    "df[\"text\"] = df[\"text\"].apply(preprocess_text)\n",
    "df.head()"
   ]
  },
  {
   "cell_type": "markdown",
   "id": "e9c70aed-b67d-4fab-b786-e1a8ab142b7e",
   "metadata": {},
   "source": [
    "## Tweet tokenization and padding"
   ]
  },
  {
   "cell_type": "code",
   "execution_count": 9,
   "id": "23da45e1-aa9a-4af2-97bf-3bd88c484e44",
   "metadata": {},
   "outputs": [
    {
     "name": "stderr",
     "output_type": "stream",
     "text": [
      "D:\\Conda\\envs\\base_ml_env\\Lib\\site-packages\\requests\\__init__.py:86: RequestsDependencyWarning: Unable to find acceptable character detection dependency (chardet or charset_normalizer).\n",
      "  warnings.warn(\n"
     ]
    },
    {
     "data": {
      "text/plain": [
       "(50000, 50)"
      ]
     },
     "execution_count": 9,
     "metadata": {},
     "output_type": "execute_result"
    }
   ],
   "source": [
    "from tensorflow.keras.preprocessing.text import Tokenizer\n",
    "from tensorflow.keras.preprocessing.sequence import pad_sequences\n",
    "\n",
    "# Parameters\n",
    "vocab_size = 10000  # maximum number of words\n",
    "max_length = 50     # maximum tweet length\n",
    "oov_token = \"<OOV>\"\n",
    "\n",
    "# Tokenizer\n",
    "tokenizer = Tokenizer(num_words=vocab_size, oov_token=oov_token)\n",
    "tokenizer.fit_on_texts(df[\"text\"])\n",
    "\n",
    "# Convert text to sequences\n",
    "sequences = tokenizer.texts_to_sequences(df[\"text\"])\n",
    "\n",
    "# Pad sequences\n",
    "padded_sequences = pad_sequences(sequences, maxlen=max_length, padding='post', truncating='post')\n",
    "\n",
    "padded_sequences.shape  # (num_samples, max_length)"
   ]
  },
  {
   "cell_type": "markdown",
   "id": "ba07b7a6-360c-4767-981d-450555d8d79f",
   "metadata": {},
   "source": [
    "**Text to Sequences**\n",
    "\n",
    "We converted the preprocessed tweets into **sequences of integers** using Keras Tokenizer, and applied **padding** so all sequences have the same length. This prepares the data for input into a TensorFlow neural network."
   ]
  },
  {
   "cell_type": "markdown",
   "id": "ca6eb0a4-4d66-4dbd-a7fd-3a080a331ef9",
   "metadata": {},
   "source": [
    "# Building and compiling the model"
   ]
  },
  {
   "cell_type": "code",
   "execution_count": 10,
   "id": "7be794b3-71a6-49c0-bc3f-18effdad5508",
   "metadata": {},
   "outputs": [],
   "source": [
    "from tensorflow.keras.models import Sequential\n",
    "from tensorflow.keras.layers import Embedding, GlobalAveragePooling1D, Dense\n",
    "\n",
    "model = Sequential([\n",
    "    Embedding(vocab_size, 16),  # maps integer tokens to 16-dim vectors\n",
    "    GlobalAveragePooling1D(),                            # averages token vectors to fixed-size\n",
    "    Dense(16, activation='relu'),                        # hidden layer to learn patterns\n",
    "    Dense(1, activation='sigmoid')                       # output layer for binary classification\n",
    "])\n",
    "\n",
    "model.compile(loss='binary_crossentropy', optimizer='adam', metrics=['accuracy'])"
   ]
  },
  {
   "cell_type": "markdown",
   "id": "439c27ac-5d3e-4179-9a94-e537d6a4786d",
   "metadata": {},
   "source": [
    "# Train-Test split"
   ]
  },
  {
   "cell_type": "code",
   "execution_count": 11,
   "id": "a8d5c5da-9194-4b1e-bfe6-7ad3becb7711",
   "metadata": {},
   "outputs": [],
   "source": [
    "from sklearn.model_selection import train_test_split\n",
    "\n",
    "X_train, X_test, y_train, y_test = train_test_split(\n",
    "    padded_sequences, df[\"target\"].values, test_size=0.2, random_state=42\n",
    ")"
   ]
  },
  {
   "cell_type": "markdown",
   "id": "68f182c4-cf81-4a95-a7fd-8dfe5bdd43e4",
   "metadata": {},
   "source": [
    "# Train the model"
   ]
  },
  {
   "cell_type": "code",
   "execution_count": 12,
   "id": "cf151980-ee79-4176-aeb0-49a887f5ccc6",
   "metadata": {},
   "outputs": [
    {
     "name": "stdout",
     "output_type": "stream",
     "text": [
      "Epoch 1/10\n",
      "\u001b[1m1250/1250\u001b[0m \u001b[32m━━━━━━━━━━━━━━━━━━━━\u001b[0m\u001b[37m\u001b[0m \u001b[1m13s\u001b[0m 8ms/step - accuracy: 0.6605 - loss: 0.6154 - val_accuracy: 0.7334 - val_loss: 0.5356\n",
      "Epoch 2/10\n",
      "\u001b[1m1250/1250\u001b[0m \u001b[32m━━━━━━━━━━━━━━━━━━━━\u001b[0m\u001b[37m\u001b[0m \u001b[1m10s\u001b[0m 8ms/step - accuracy: 0.7641 - loss: 0.4969 - val_accuracy: 0.7650 - val_loss: 0.4954\n",
      "Epoch 3/10\n",
      "\u001b[1m1250/1250\u001b[0m \u001b[32m━━━━━━━━━━━━━━━━━━━━\u001b[0m\u001b[37m\u001b[0m \u001b[1m10s\u001b[0m 8ms/step - accuracy: 0.7935 - loss: 0.4516 - val_accuracy: 0.7314 - val_loss: 0.5438\n",
      "Epoch 4/10\n",
      "\u001b[1m1250/1250\u001b[0m \u001b[32m━━━━━━━━━━━━━━━━━━━━\u001b[0m\u001b[37m\u001b[0m \u001b[1m12s\u001b[0m 9ms/step - accuracy: 0.8050 - loss: 0.4298 - val_accuracy: 0.7736 - val_loss: 0.4883\n",
      "Epoch 5/10\n",
      "\u001b[1m1250/1250\u001b[0m \u001b[32m━━━━━━━━━━━━━━━━━━━━\u001b[0m\u001b[37m\u001b[0m \u001b[1m12s\u001b[0m 10ms/step - accuracy: 0.8144 - loss: 0.4153 - val_accuracy: 0.7609 - val_loss: 0.4984\n",
      "Epoch 6/10\n",
      "\u001b[1m1250/1250\u001b[0m \u001b[32m━━━━━━━━━━━━━━━━━━━━\u001b[0m\u001b[37m\u001b[0m \u001b[1m11s\u001b[0m 9ms/step - accuracy: 0.8257 - loss: 0.3985 - val_accuracy: 0.7634 - val_loss: 0.5059\n",
      "Epoch 7/10\n",
      "\u001b[1m1250/1250\u001b[0m \u001b[32m━━━━━━━━━━━━━━━━━━━━\u001b[0m\u001b[37m\u001b[0m \u001b[1m20s\u001b[0m 9ms/step - accuracy: 0.8285 - loss: 0.3906 - val_accuracy: 0.7489 - val_loss: 0.5326\n",
      "Epoch 8/10\n",
      "\u001b[1m1250/1250\u001b[0m \u001b[32m━━━━━━━━━━━━━━━━━━━━\u001b[0m\u001b[37m\u001b[0m \u001b[1m21s\u001b[0m 9ms/step - accuracy: 0.8318 - loss: 0.3816 - val_accuracy: 0.7624 - val_loss: 0.5109\n",
      "Epoch 9/10\n",
      "\u001b[1m1250/1250\u001b[0m \u001b[32m━━━━━━━━━━━━━━━━━━━━\u001b[0m\u001b[37m\u001b[0m \u001b[1m21s\u001b[0m 9ms/step - accuracy: 0.8385 - loss: 0.3704 - val_accuracy: 0.7561 - val_loss: 0.5239\n",
      "Epoch 10/10\n",
      "\u001b[1m1250/1250\u001b[0m \u001b[32m━━━━━━━━━━━━━━━━━━━━\u001b[0m\u001b[37m\u001b[0m \u001b[1m21s\u001b[0m 10ms/step - accuracy: 0.8415 - loss: 0.3651 - val_accuracy: 0.7624 - val_loss: 0.5270\n"
     ]
    }
   ],
   "source": [
    "history = model.fit(\n",
    "    X_train, y_train,\n",
    "    epochs=10,\n",
    "    batch_size=32,\n",
    "    validation_data=(X_test, y_test)\n",
    ")"
   ]
  },
  {
   "cell_type": "markdown",
   "id": "f57482b4-b772-403a-8d1c-55b5f2d09753",
   "metadata": {},
   "source": [
    "# Evaluate the model"
   ]
  },
  {
   "cell_type": "code",
   "execution_count": 13,
   "id": "c81be2d5-c9a1-4395-a886-2a320de79854",
   "metadata": {},
   "outputs": [
    {
     "name": "stdout",
     "output_type": "stream",
     "text": [
      "\u001b[1m313/313\u001b[0m \u001b[32m━━━━━━━━━━━━━━━━━━━━\u001b[0m\u001b[37m\u001b[0m \u001b[1m1s\u001b[0m 4ms/step - accuracy: 0.7624 - loss: 0.5270\n",
      "Test Loss: 0.5270\n",
      "Test Accuracy: 0.7624\n"
     ]
    }
   ],
   "source": [
    "loss, accuracy = model.evaluate(X_test, y_test)\n",
    "\n",
    "print(f\"Test Loss: {loss:.4f}\")\n",
    "print(f\"Test Accuracy: {accuracy:.4f}\")"
   ]
  },
  {
   "cell_type": "code",
   "execution_count": 14,
   "id": "ea8ed7ae-d94d-48dd-98d0-69c4f999aac0",
   "metadata": {},
   "outputs": [
    {
     "data": {
      "image/png": "[encoded data removed]",
      "text/plain": [
       "<Figure size 600x400 with 1 Axes>"
      ]
     },
     "metadata": {},
     "output_type": "display_data"
    }
   ],
   "source": [
    "import matplotlib.pyplot as plt\n",
    "\n",
    "plt.figure(figsize=(6,4))\n",
    "plt.plot(history.history['accuracy'], label='train')\n",
    "plt.plot(history.history['val_accuracy'], label='val')\n",
    "plt.title('Training vs Validation Accuracy')\n",
    "plt.xlabel('Epoch')\n",
    "plt.ylabel('Accuracy')\n",
    "plt.legend()\n",
    "plt.show()"
   ]
  },
  {
   "cell_type": "markdown",
   "id": "c4f48536-fc01-4eeb-92e2-8e383b048a91",
   "metadata": {},
   "source": [
    "The chart clearly **shows overfitting** because the blue line (training accuracy) continues to rise, while the orange line (validation accuracy) flattens and starts to fluctuate around 0.75 after Epoch 3. This increasing gap means the model is only memorizing the training data instead of learning general rules. Consequently, running for more epochs will not improve the model's performance on new data. \n",
    "\n",
    "**To fix this, we can stop the training early (e.g., at Epoch 3) or use other techniques like Regularization or Dropout.**"
   ]
  }
 ],
 "metadata": {
  "kernelspec": {
   "display_name": "Python 3 (ipykernel)",
   "language": "python",
   "name": "python3"
  },
  "language_info": {
   "codemirror_mode": {
    "name": "ipython",
    "version": 3
   },
   "file_extension": ".py",
   "mimetype": "text/x-python",
   "name": "python",
   "nbconvert_exporter": "python",
   "pygments_lexer": "ipython3",
   "version": "3.11.13"
  }
 },
 "nbformat": 4,
 "nbformat_minor": 5
}
